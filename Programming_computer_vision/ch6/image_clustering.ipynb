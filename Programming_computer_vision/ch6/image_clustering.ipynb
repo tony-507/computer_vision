{
 "cells": [
  {
   "cell_type": "code",
   "execution_count": 1,
   "id": "honest-album",
   "metadata": {},
   "outputs": [],
   "source": [
    "import numpy as np\n",
    "import matplotlib.pyplot as plt\n",
    "import pandas as pd"
   ]
  },
  {
   "cell_type": "code",
   "execution_count": 2,
   "id": "automated-municipality",
   "metadata": {},
   "outputs": [
    {
     "data": {
      "text/html": [
       "<div>\n",
       "<style scoped>\n",
       "    .dataframe tbody tr th:only-of-type {\n",
       "        vertical-align: middle;\n",
       "    }\n",
       "\n",
       "    .dataframe tbody tr th {\n",
       "        vertical-align: top;\n",
       "    }\n",
       "\n",
       "    .dataframe thead th {\n",
       "        text-align: right;\n",
       "    }\n",
       "</style>\n",
       "<table border=\"1\" class=\"dataframe\">\n",
       "  <thead>\n",
       "    <tr style=\"text-align: right;\">\n",
       "      <th></th>\n",
       "      <th>font</th>\n",
       "      <th>fontVariant</th>\n",
       "      <th>m_label</th>\n",
       "      <th>strength</th>\n",
       "      <th>italic</th>\n",
       "      <th>orientation</th>\n",
       "      <th>m_top</th>\n",
       "      <th>m_left</th>\n",
       "      <th>originalH</th>\n",
       "      <th>originalW</th>\n",
       "      <th>...</th>\n",
       "      <th>r19c10</th>\n",
       "      <th>r19c11</th>\n",
       "      <th>r19c12</th>\n",
       "      <th>r19c13</th>\n",
       "      <th>r19c14</th>\n",
       "      <th>r19c15</th>\n",
       "      <th>r19c16</th>\n",
       "      <th>r19c17</th>\n",
       "      <th>r19c18</th>\n",
       "      <th>r19c19</th>\n",
       "    </tr>\n",
       "  </thead>\n",
       "  <tbody>\n",
       "    <tr>\n",
       "      <th>0</th>\n",
       "      <td>ARIAL</td>\n",
       "      <td>scanned</td>\n",
       "      <td>48</td>\n",
       "      <td>0.4</td>\n",
       "      <td>0</td>\n",
       "      <td>0.0</td>\n",
       "      <td>0</td>\n",
       "      <td>0</td>\n",
       "      <td>15</td>\n",
       "      <td>25</td>\n",
       "      <td>...</td>\n",
       "      <td>255</td>\n",
       "      <td>255</td>\n",
       "      <td>255</td>\n",
       "      <td>154</td>\n",
       "      <td>1</td>\n",
       "      <td>1</td>\n",
       "      <td>1</td>\n",
       "      <td>1</td>\n",
       "      <td>1</td>\n",
       "      <td>1</td>\n",
       "    </tr>\n",
       "    <tr>\n",
       "      <th>1</th>\n",
       "      <td>ARIAL</td>\n",
       "      <td>scanned</td>\n",
       "      <td>50</td>\n",
       "      <td>0.4</td>\n",
       "      <td>0</td>\n",
       "      <td>0.0</td>\n",
       "      <td>0</td>\n",
       "      <td>0</td>\n",
       "      <td>18</td>\n",
       "      <td>11</td>\n",
       "      <td>...</td>\n",
       "      <td>213</td>\n",
       "      <td>225</td>\n",
       "      <td>229</td>\n",
       "      <td>239</td>\n",
       "      <td>240</td>\n",
       "      <td>240</td>\n",
       "      <td>221</td>\n",
       "      <td>209</td>\n",
       "      <td>116</td>\n",
       "      <td>95</td>\n",
       "    </tr>\n",
       "    <tr>\n",
       "      <th>2</th>\n",
       "      <td>ARIAL</td>\n",
       "      <td>scanned</td>\n",
       "      <td>83</td>\n",
       "      <td>0.4</td>\n",
       "      <td>0</td>\n",
       "      <td>0.0</td>\n",
       "      <td>0</td>\n",
       "      <td>0</td>\n",
       "      <td>13</td>\n",
       "      <td>10</td>\n",
       "      <td>...</td>\n",
       "      <td>255</td>\n",
       "      <td>255</td>\n",
       "      <td>255</td>\n",
       "      <td>255</td>\n",
       "      <td>255</td>\n",
       "      <td>255</td>\n",
       "      <td>1</td>\n",
       "      <td>1</td>\n",
       "      <td>1</td>\n",
       "      <td>1</td>\n",
       "    </tr>\n",
       "    <tr>\n",
       "      <th>3</th>\n",
       "      <td>ARIAL</td>\n",
       "      <td>scanned</td>\n",
       "      <td>48</td>\n",
       "      <td>0.4</td>\n",
       "      <td>0</td>\n",
       "      <td>0.0</td>\n",
       "      <td>0</td>\n",
       "      <td>0</td>\n",
       "      <td>15</td>\n",
       "      <td>18</td>\n",
       "      <td>...</td>\n",
       "      <td>1</td>\n",
       "      <td>1</td>\n",
       "      <td>1</td>\n",
       "      <td>1</td>\n",
       "      <td>1</td>\n",
       "      <td>1</td>\n",
       "      <td>1</td>\n",
       "      <td>1</td>\n",
       "      <td>1</td>\n",
       "      <td>1</td>\n",
       "    </tr>\n",
       "    <tr>\n",
       "      <th>4</th>\n",
       "      <td>ARIAL</td>\n",
       "      <td>scanned</td>\n",
       "      <td>54</td>\n",
       "      <td>0.4</td>\n",
       "      <td>0</td>\n",
       "      <td>0.0</td>\n",
       "      <td>0</td>\n",
       "      <td>0</td>\n",
       "      <td>14</td>\n",
       "      <td>30</td>\n",
       "      <td>...</td>\n",
       "      <td>255</td>\n",
       "      <td>255</td>\n",
       "      <td>255</td>\n",
       "      <td>255</td>\n",
       "      <td>1</td>\n",
       "      <td>1</td>\n",
       "      <td>1</td>\n",
       "      <td>1</td>\n",
       "      <td>1</td>\n",
       "      <td>1</td>\n",
       "    </tr>\n",
       "    <tr>\n",
       "      <th>...</th>\n",
       "      <td>...</td>\n",
       "      <td>...</td>\n",
       "      <td>...</td>\n",
       "      <td>...</td>\n",
       "      <td>...</td>\n",
       "      <td>...</td>\n",
       "      <td>...</td>\n",
       "      <td>...</td>\n",
       "      <td>...</td>\n",
       "      <td>...</td>\n",
       "      <td>...</td>\n",
       "      <td>...</td>\n",
       "      <td>...</td>\n",
       "      <td>...</td>\n",
       "      <td>...</td>\n",
       "      <td>...</td>\n",
       "      <td>...</td>\n",
       "      <td>...</td>\n",
       "      <td>...</td>\n",
       "      <td>...</td>\n",
       "      <td>...</td>\n",
       "    </tr>\n",
       "    <tr>\n",
       "      <th>26232</th>\n",
       "      <td>ARIAL</td>\n",
       "      <td>ARIAL</td>\n",
       "      <td>37</td>\n",
       "      <td>0.7</td>\n",
       "      <td>1</td>\n",
       "      <td>0.0</td>\n",
       "      <td>32</td>\n",
       "      <td>26</td>\n",
       "      <td>50</td>\n",
       "      <td>52</td>\n",
       "      <td>...</td>\n",
       "      <td>1</td>\n",
       "      <td>1</td>\n",
       "      <td>16</td>\n",
       "      <td>161</td>\n",
       "      <td>255</td>\n",
       "      <td>255</td>\n",
       "      <td>208</td>\n",
       "      <td>83</td>\n",
       "      <td>4</td>\n",
       "      <td>1</td>\n",
       "    </tr>\n",
       "    <tr>\n",
       "      <th>26233</th>\n",
       "      <td>ARIAL</td>\n",
       "      <td>ARIAL</td>\n",
       "      <td>36</td>\n",
       "      <td>0.7</td>\n",
       "      <td>1</td>\n",
       "      <td>0.0</td>\n",
       "      <td>30</td>\n",
       "      <td>24</td>\n",
       "      <td>58</td>\n",
       "      <td>36</td>\n",
       "      <td>...</td>\n",
       "      <td>1</td>\n",
       "      <td>1</td>\n",
       "      <td>1</td>\n",
       "      <td>1</td>\n",
       "      <td>1</td>\n",
       "      <td>1</td>\n",
       "      <td>1</td>\n",
       "      <td>1</td>\n",
       "      <td>1</td>\n",
       "      <td>1</td>\n",
       "    </tr>\n",
       "    <tr>\n",
       "      <th>26234</th>\n",
       "      <td>ARIAL</td>\n",
       "      <td>ARIAL</td>\n",
       "      <td>35</td>\n",
       "      <td>0.7</td>\n",
       "      <td>1</td>\n",
       "      <td>0.0</td>\n",
       "      <td>33</td>\n",
       "      <td>23</td>\n",
       "      <td>48</td>\n",
       "      <td>37</td>\n",
       "      <td>...</td>\n",
       "      <td>255</td>\n",
       "      <td>255</td>\n",
       "      <td>253</td>\n",
       "      <td>77</td>\n",
       "      <td>1</td>\n",
       "      <td>1</td>\n",
       "      <td>1</td>\n",
       "      <td>1</td>\n",
       "      <td>1</td>\n",
       "      <td>1</td>\n",
       "    </tr>\n",
       "    <tr>\n",
       "      <th>26235</th>\n",
       "      <td>ARIAL</td>\n",
       "      <td>ARIAL</td>\n",
       "      <td>34</td>\n",
       "      <td>0.7</td>\n",
       "      <td>1</td>\n",
       "      <td>0.0</td>\n",
       "      <td>33</td>\n",
       "      <td>30</td>\n",
       "      <td>17</td>\n",
       "      <td>24</td>\n",
       "      <td>...</td>\n",
       "      <td>43</td>\n",
       "      <td>255</td>\n",
       "      <td>255</td>\n",
       "      <td>255</td>\n",
       "      <td>255</td>\n",
       "      <td>213</td>\n",
       "      <td>1</td>\n",
       "      <td>1</td>\n",
       "      <td>1</td>\n",
       "      <td>1</td>\n",
       "    </tr>\n",
       "    <tr>\n",
       "      <th>26236</th>\n",
       "      <td>ARIAL</td>\n",
       "      <td>ARIAL</td>\n",
       "      <td>33</td>\n",
       "      <td>0.7</td>\n",
       "      <td>1</td>\n",
       "      <td>0.0</td>\n",
       "      <td>33</td>\n",
       "      <td>24</td>\n",
       "      <td>48</td>\n",
       "      <td>19</td>\n",
       "      <td>...</td>\n",
       "      <td>23</td>\n",
       "      <td>1</td>\n",
       "      <td>1</td>\n",
       "      <td>1</td>\n",
       "      <td>1</td>\n",
       "      <td>1</td>\n",
       "      <td>1</td>\n",
       "      <td>1</td>\n",
       "      <td>1</td>\n",
       "      <td>1</td>\n",
       "    </tr>\n",
       "  </tbody>\n",
       "</table>\n",
       "<p>26237 rows × 412 columns</p>\n",
       "</div>"
      ],
      "text/plain": [
       "        font fontVariant  m_label  strength  italic  orientation  m_top  \\\n",
       "0      ARIAL     scanned       48       0.4       0          0.0      0   \n",
       "1      ARIAL     scanned       50       0.4       0          0.0      0   \n",
       "2      ARIAL     scanned       83       0.4       0          0.0      0   \n",
       "3      ARIAL     scanned       48       0.4       0          0.0      0   \n",
       "4      ARIAL     scanned       54       0.4       0          0.0      0   \n",
       "...      ...         ...      ...       ...     ...          ...    ...   \n",
       "26232  ARIAL       ARIAL       37       0.7       1          0.0     32   \n",
       "26233  ARIAL       ARIAL       36       0.7       1          0.0     30   \n",
       "26234  ARIAL       ARIAL       35       0.7       1          0.0     33   \n",
       "26235  ARIAL       ARIAL       34       0.7       1          0.0     33   \n",
       "26236  ARIAL       ARIAL       33       0.7       1          0.0     33   \n",
       "\n",
       "       m_left  originalH  originalW  ...  r19c10  r19c11  r19c12  r19c13  \\\n",
       "0           0         15         25  ...     255     255     255     154   \n",
       "1           0         18         11  ...     213     225     229     239   \n",
       "2           0         13         10  ...     255     255     255     255   \n",
       "3           0         15         18  ...       1       1       1       1   \n",
       "4           0         14         30  ...     255     255     255     255   \n",
       "...       ...        ...        ...  ...     ...     ...     ...     ...   \n",
       "26232      26         50         52  ...       1       1      16     161   \n",
       "26233      24         58         36  ...       1       1       1       1   \n",
       "26234      23         48         37  ...     255     255     253      77   \n",
       "26235      30         17         24  ...      43     255     255     255   \n",
       "26236      24         48         19  ...      23       1       1       1   \n",
       "\n",
       "       r19c14  r19c15  r19c16  r19c17  r19c18  r19c19  \n",
       "0           1       1       1       1       1       1  \n",
       "1         240     240     221     209     116      95  \n",
       "2         255     255       1       1       1       1  \n",
       "3           1       1       1       1       1       1  \n",
       "4           1       1       1       1       1       1  \n",
       "...       ...     ...     ...     ...     ...     ...  \n",
       "26232     255     255     208      83       4       1  \n",
       "26233       1       1       1       1       1       1  \n",
       "26234       1       1       1       1       1       1  \n",
       "26235     255     213       1       1       1       1  \n",
       "26236       1       1       1       1       1       1  \n",
       "\n",
       "[26237 rows x 412 columns]"
      ]
     },
     "execution_count": 2,
     "metadata": {},
     "output_type": "execute_result"
    }
   ],
   "source": [
    "arial = pd.read_csv('fonts/arial.csv')\n",
    "arial"
   ]
  },
  {
   "cell_type": "code",
   "execution_count": 3,
   "id": "whole-jackson",
   "metadata": {},
   "outputs": [],
   "source": [
    "# Select columns corresponding to images, i.e. r0c0,r0c1,...,r19c19\n",
    "col = []\n",
    "\n",
    "for i in range(20):\n",
    "    for j in range(20):\n",
    "        col.append('r'+str(i)+'c'+str(j))\n",
    "\n",
    "font_df = arial[col]\n",
    "data = np.array(font_df,'f')\n",
    "\n",
    "# For speed, we take only first 100 images\n",
    "data = data[:100]\n",
    "\n",
    "# Save the data to a txt for convenience\n",
    "np.savetxt('arial_data.txt',data)"
   ]
  },
  {
   "cell_type": "code",
   "execution_count": 4,
   "id": "surgical-crime",
   "metadata": {},
   "outputs": [],
   "source": [
    "# Function for displaying i-th image\n",
    "def display_image(data,i,h,w):\n",
    "    plt.figure()\n",
    "    im = data[i].reshape((h,w))\n",
    "    plt.gray()\n",
    "    plt.imshow(im)"
   ]
  },
  {
   "cell_type": "code",
   "execution_count": 5,
   "id": "wired-australia",
   "metadata": {},
   "outputs": [
    {
     "data": {
      "image/png": "[encoded data removed]",
      "text/plain": [
       "<Figure size 432x288 with 1 Axes>"
      ]
     },
     "metadata": {
      "needs_background": "light"
     },
     "output_type": "display_data"
    },
    {
     "data": {
      "image/png": "[encoded data removed]",
      "text/plain": [
       "<Figure size 432x288 with 1 Axes>"
      ]
     },
     "metadata": {
      "needs_background": "light"
     },
     "output_type": "display_data"
    },
    {
     "data": {
      "image/png": "[encoded data removed]",
      "text/plain": [
       "<Figure size 432x288 with 1 Axes>"
      ]
     },
     "metadata": {
      "needs_background": "light"
     },
     "output_type": "display_data"
    },
    {
     "data": {
      "image/png": "[encoded data removed]",
      "text/plain": [
       "<Figure size 432x288 with 1 Axes>"
      ]
     },
     "metadata": {
      "needs_background": "light"
     },
     "output_type": "display_data"
    },
    {
     "data": {
      "image/png": "[encoded data removed]",
      "text/plain": [
       "<Figure size 432x288 with 1 Axes>"
      ]
     },
     "metadata": {
      "needs_background": "light"
     },
     "output_type": "display_data"
    }
   ],
   "source": [
    "# Display first five images\n",
    "\n",
    "for i in range(5):\n",
    "    display_image(data,i,20,20)\n",
    "    \n",
    "plt.show()"
   ]
  },
  {
   "cell_type": "code",
   "execution_count": 6,
   "id": "fiscal-customs",
   "metadata": {},
   "outputs": [],
   "source": [
    "# Package for clustering\n",
    "from scipy.cluster.vq import *"
   ]
  },
  {
   "cell_type": "code",
   "execution_count": 7,
   "id": "scientific-rubber",
   "metadata": {},
   "outputs": [
    {
     "name": "stdout",
     "output_type": "stream",
     "text": [
      "Best result:\n",
      "Number of clusters: 40\n",
      "Variance: 682.4012451171875\n"
     ]
    }
   ],
   "source": [
    "# Do clustering with different number of clusters\n",
    "n_cluster = 0\n",
    "centroids = []\n",
    "variance = 100000\n",
    "for i in range(1,41):\n",
    "    c,v = kmeans(data,i)\n",
    "    if v < variance:\n",
    "        centroids = c\n",
    "        variance = v\n",
    "        n_cluster = i\n",
    "        \n",
    "print('Best result:')\n",
    "print(f'Number of clusters: {n_cluster}')\n",
    "print(f'Variance: {variance}')"
   ]
  },
  {
   "cell_type": "code",
   "execution_count": 8,
   "id": "anonymous-rubber",
   "metadata": {},
   "outputs": [
    {
     "data": {
      "image/png": "[encoded data removed]",
      "text/plain": [
       "<Figure size 432x288 with 1 Axes>"
      ]
     },
     "metadata": {
      "needs_background": "light"
     },
     "output_type": "display_data"
    },
    {
     "data": {
      "image/png": "[encoded data removed]",
      "text/plain": [
       "<Figure size 432x288 with 1 Axes>"
      ]
     },
     "metadata": {
      "needs_background": "light"
     },
     "output_type": "display_data"
    }
   ],
   "source": [
    "# Display images in first cluster\n",
    "\n",
    "code,_ = vq(data,centroids)\n",
    "ndx = np.where(code==0)[0]\n",
    "\n",
    "for i in range(np.minimum(5,len(ndx))):\n",
    "    display_image(data,ndx[i],20,20)\n",
    "    \n",
    "plt.show()"
   ]
  },
  {
   "cell_type": "code",
   "execution_count": 9,
   "id": "insured-individual",
   "metadata": {},
   "outputs": [],
   "source": [
    "# Package for PCA\n",
    "from sklearn.decomposition import PCA"
   ]
  },
  {
   "cell_type": "code",
   "execution_count": 10,
   "id": "advance-traffic",
   "metadata": {},
   "outputs": [
    {
     "name": "stdout",
     "output_type": "stream",
     "text": [
      "Best result:\n",
      "Number of clusters: 20\n",
      "Variance: 1006.62255859375\n"
     ]
    }
   ],
   "source": [
    "# Apply PCA with 100 principal components\n",
    "\n",
    "pca = PCA(n_components=100)\n",
    "data_pca = pca.fit_transform(data)\n",
    "\n",
    "# Use new dataset for clustering\n",
    "n_cluster = 0\n",
    "centroids = []\n",
    "variance = 100000\n",
    "for i in range(1,21):\n",
    "    c,v = kmeans(data_pca,i)\n",
    "    if v < variance:\n",
    "        centroids = c\n",
    "        variance = v\n",
    "        n_cluster = i\n",
    "        \n",
    "print('Best result:')\n",
    "print(f'Number of clusters: {n_cluster}')\n",
    "print(f'Variance: {variance}')"
   ]
  }
 ],
 "metadata": {
  "kernelspec": {
   "display_name": "Python 3",
   "language": "python",
   "name": "python3"
  },
  "language_info": {
   "codemirror_mode": {
    "name": "ipython",
    "version": 3
   },
   "file_extension": ".py",
   "mimetype": "text/x-python",
   "name": "python",
   "nbconvert_exporter": "python",
   "pygments_lexer": "ipython3",
   "version": "3.7.0"
  }
 },
 "nbformat": 4,
 "nbformat_minor": 5
}
